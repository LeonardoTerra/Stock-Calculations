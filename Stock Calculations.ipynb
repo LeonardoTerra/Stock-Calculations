{
 "cells": [
  {
   "cell_type": "code",
   "execution_count": 15,
   "id": "48060a24",
   "metadata": {},
   "outputs": [],
   "source": [
    "#Import Libraries \n",
    "\n",
    "import numpy as np \n",
    "import pandas as pd\n",
    "from pandas_datareader import data as wb\n",
    "import matplotlib.pyplot as plt"
   ]
  },
  {
   "cell_type": "code",
   "execution_count": null,
   "id": "d650bbba",
   "metadata": {},
   "outputs": [],
   "source": [
    "#Get data from a CSV file\n",
    "cotações = pd.read_csv('C:/Users/Leonardo Terra/Videos/Cotações.csv', index_col=\"DATA\")\n",
    "cotações"
   ]
  },
  {
   "cell_type": "code",
   "execution_count": 18,
   "id": "5f2c2dc9",
   "metadata": {},
   "outputs": [],
   "source": [
    "#Correcting the price to $100 in order to show the performance\n",
    "Cotações_C = (cotações/cotações.iloc[0]*100)"
   ]
  },
  {
   "cell_type": "code",
   "execution_count": null,
   "id": "57aba30d",
   "metadata": {},
   "outputs": [],
   "source": [
    "#Deploying a visualization\n",
    "Cotações_C = Cotações_C.plot(figsize=(15,6))\n",
    "plt.show"
   ]
  },
  {
   "cell_type": "code",
   "execution_count": null,
   "id": "1614dc13",
   "metadata": {},
   "outputs": [],
   "source": [
    "#Simple Return\n",
    "returns = (cotações/cotações.shift(1))-1\n",
    "returns"
   ]
  },
  {
   "cell_type": "code",
   "execution_count": null,
   "id": "c8e6f5ad",
   "metadata": {},
   "outputs": [],
   "source": [
    "#Annual simple returns\n",
    "annual_returns = round((returns.mean()*250),2)*100\n",
    "annual_returns"
   ]
  },
  {
   "cell_type": "code",
   "execution_count": null,
   "id": "d680788e",
   "metadata": {},
   "outputs": [],
   "source": [
    "#Risk\n",
    "std = (cotações.std()*250 **0,5)\n",
    "print(std)"
   ]
  }
 ],
 "metadata": {
  "kernelspec": {
   "display_name": "Python 3",
   "language": "python",
   "name": "python3"
  },
  "language_info": {
   "codemirror_mode": {
    "name": "ipython",
    "version": 3
   },
   "file_extension": ".py",
   "mimetype": "text/x-python",
   "name": "python",
   "nbconvert_exporter": "python",
   "pygments_lexer": "ipython3",
   "version": "3.8.8"
  }
 },
 "nbformat": 4,
 "nbformat_minor": 5
}
